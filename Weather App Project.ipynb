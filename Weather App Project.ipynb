{
 "cells": [
  {
   "cell_type": "code",
   "execution_count": 3,
   "metadata": {},
   "outputs": [],
   "source": [
    "# Name: Ryan Meston\n",
    "# Date: 20191117\n",
    "# This is the first project I completed in my Master's of Science program.\n",
    "# API Key - 55026ca6899ef9d9acf0f6a53433805b\n",
    "# weather_url = \"http://api.openweathermap.org/data/2.5/weather\"\n",
    "\n",
    "import requests\n",
    "\n",
    "API_key = \"55026ca6899ef9d9acf0f6a53433805b\"\n",
    "weather_url = \"http://api.openweathermap.org/data/2.5/weather\"\n",
    "\n",
    "zip_answers = ['Zip', 'zip']\n",
    "city_answers = ['City', 'city']\n",
    "done_answers = ['Done', 'done']\n",
    "\n",
    "while True:\n",
    "    user_info = input('Enter Zip or City to continue, or Done to exit: ') # Zip or City allows users to continue and enter their zip code or city to find out weather information, Done exits the program.\n",
    "    if user_info in zip_answers: # This if statement will run continuously until Done is entered.\n",
    "        zip_code = input(\"What is your zip code?: \")\n",
    "        params = {'q': zip_code, 'appid': API_key, 'units': 'imperial'} # parameters allow me to use the zip code, API_key and units to display information.\n",
    "        res = requests.get(weather_url, params=params)\n",
    "        data = res.json()\n",
    "        temperature = 'Current temperature in {} is {}°F.'\n",
    "        atmospheric_pressure = 'Atmospheric pressure in {} is {} hpa.'\n",
    "        humidity = 'Humidity in {} is {}%.'\n",
    "\n",
    "        print(temperature.format(zip_code, data[\"main\"][\"temp\"]))\n",
    "        print(atmospheric_pressure.format(zip_code, data[\"main\"][\"pressure\"]))\n",
    "        print(humidity.format(zip_code, data[\"main\"][\"humidity\"]))\n",
    "\n",
    "    if user_info in city_answers: # This if statement will run continuously until Done is entered.\n",
    "        city_name = input(\"What cities weather would you like to look up?: \")\n",
    "        params = {'q': city_name, 'appid': API_key, 'units': 'imperial'} # parameters allow me to use the city_name, API_key and units to display information.\n",
    "        res = requests.get(weather_url, params=params)\n",
    "        data = res.json()\n",
    "        temperature = 'Current temperature in {} is {}°F.'\n",
    "        atmospheric_pressure = 'Atmospheric pressure in {} is {} hpa.'\n",
    "        humidity = 'Humidity in {} is {}%.'\n",
    "\n",
    "        print(temperature.format(city_name, data[\"main\"][\"temp\"]))\n",
    "        print(atmospheric_pressure.format(city_name, data[\"main\"][\"pressure\"]))\n",
    "        print(humidity.format(city_name, data[\"main\"][\"humidity\"]))\n",
    "\n",
    "    else:\n",
    "        if user_info in done_answers: # this will close the program and let the user know they are all done.\n",
    "            print('Thank you for using this program!')\n",
    "            break"
   ]
  }
 ],
 "metadata": {
  "kernelspec": {
   "display_name": "Python 3",
   "language": "python",
   "name": "python3"
  },
  "language_info": {
   "codemirror_mode": {
    "name": "ipython",
    "version": 3
   },
   "file_extension": ".py",
   "mimetype": "text/x-python",
   "name": "python",
   "nbconvert_exporter": "python",
   "pygments_lexer": "ipython3",
   "version": "3.7.6"
  }
 },
 "nbformat": 4,
 "nbformat_minor": 4
}
